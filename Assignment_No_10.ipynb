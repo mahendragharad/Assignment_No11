{
  "nbformat": 4,
  "nbformat_minor": 0,
  "metadata": {
    "colab": {
      "provenance": []
    },
    "kernelspec": {
      "name": "python3",
      "display_name": "Python 3"
    },
    "language_info": {
      "name": "python"
    }
  },
  "cells": [
    {
      "cell_type": "markdown",
      "source": [
        "**1. How do you distinguish between shutil.copy() and shutil.copytree()?**\n",
        "\n",
        "ANS :\n",
        "\n",
        "shutil.copy() and shutil.copytree() are two functions provided by the shutil module in Python, which is part of the standard library. Both functions are used for copying files and directories, but they serve different purposes:\n",
        "\n",
        "\n",
        "---\n",
        "\n",
        "\n",
        "**shutil.copy():**\n",
        "\n",
        "This function is used to copy a single file from a source location to a destination location.\n",
        "\n",
        "\n",
        "---\n",
        "shutil.copytree(): This function is used to recursively copy an entire directory along with all its contents (subdirectories and files) to a destination location.\n",
        "\n",
        "\n",
        "---\n",
        "\n",
        "\n"
      ],
      "metadata": {
        "id": "fKF1wF7Gf4WX"
      }
    },
    {
      "cell_type": "markdown",
      "source": [
        "**2. What function is used to rename files??**\n",
        "\n",
        "ANS : To rename files in Python, you can use the os.rename() function or the shutil.move() function from the os and shutil modules, respectively. Both functions allow you to change the name of a file or move it to a new location with a different name."
      ],
      "metadata": {
        "id": "SKjYuzpxg1mm"
      }
    },
    {
      "cell_type": "markdown",
      "source": [
        "\n",
        "\n",
        "---\n",
        "\n"
      ],
      "metadata": {
        "id": "yi7PftRWhBWi"
      }
    },
    {
      "cell_type": "markdown",
      "source": [
        "**3. What is the difference between the delete functions in the send2trash and shutil modules?**\n",
        "\n",
        "ANS : **send2trash module:**\n",
        "\n",
        "The send2trash module provides a safe way to delete files or directories by sending them to the system's trash/recycle bin instead of permanently deleting them. This means that the files or directories you delete using send2trash can be later recovered from the trash if needed. The main function in this module is send2trash.send2trash().\n",
        "\n",
        "\n",
        "---\n",
        "\n",
        "\n",
        "---\n",
        "\n",
        "\n",
        "\n",
        "**shutil module:**\n",
        "\n",
        "The shutil module includes various file operations, but it doesn't have a specific function dedicated to moving files or directories to the system's trash. Instead, it provides functions for permanently deleting files and directories. The primary function in this context is shutil.rmtree() for deleting directories and os.remove() for deleting files."
      ],
      "metadata": {
        "id": "EdcswOduhCVl"
      }
    },
    {
      "cell_type": "markdown",
      "source": [
        "\n",
        "\n",
        "---\n",
        "\n"
      ],
      "metadata": {
        "id": "9uZIX4-vhh1S"
      }
    },
    {
      "cell_type": "markdown",
      "source": [
        "**4.ZipFile objects have a close() method just like File objects’ close() method. What ZipFile method is\n",
        "equivalent to File objects’ open() method?**\n",
        "\n",
        "ANS :\n",
        "\n",
        "The equivalent method in ZipFile objects to the open() method in File objects is the ZipFile() constructor. This method is used to create a ZipFile object, which allows you to work with ZIP archives in Python."
      ],
      "metadata": {
        "id": "qkgDZEUjhjjz"
      }
    },
    {
      "cell_type": "markdown",
      "source": [
        "\n",
        "\n",
        "---\n",
        "\n"
      ],
      "metadata": {
        "id": "V6_cOKiPh5M7"
      }
    },
    {
      "cell_type": "markdown",
      "source": [
        "**5. Create a programme that searches a folder tree for files with a certain file extension (such as .pdf\n",
        "or .jpg). Copy these files from whatever location they are in to a new folder.**"
      ],
      "metadata": {
        "id": "69_ijMcAh6Lx"
      }
    },
    {
      "cell_type": "code",
      "execution_count": 1,
      "metadata": {
        "id": "O_DJvm1ufx_S"
      },
      "outputs": [],
      "source": [
        "import os\n",
        "import shutil\n",
        "def find_files_by_extension(root_folder, extension , destination_folder):\n",
        "    file_list = []\n",
        "\n",
        "    # Walk through the directory tree starting from the root_folder.\n",
        "    for dirpath, dirnames, filenames in os.walk(root_folder):\n",
        "        for filename in filenames:\n",
        "            if filename.endswith(extension):\n",
        "                file_list.append(os.path.join(dirpath, filename))\n",
        "\n",
        "                for j in file_list :\n",
        "                    shutil.copy( j , destination_folder )"
      ]
    },
    {
      "cell_type": "code",
      "source": [
        "find_files_by_extension('Downloads' , 'jpg' , 'Music' )"
      ],
      "metadata": {
        "id": "sm_iooRDpMmn"
      },
      "execution_count": 2,
      "outputs": []
    },
    {
      "cell_type": "markdown",
      "source": [
        "\n",
        "\n",
        "---\n",
        "\n"
      ],
      "metadata": {
        "id": "9pelDD1iqSB2"
      }
    }
  ]
}